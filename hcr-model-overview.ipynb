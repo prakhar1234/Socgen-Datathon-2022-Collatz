{
 "cells": [
  {
   "cell_type": "markdown",
   "id": "1efa3043",
   "metadata": {
    "papermill": {
     "duration": 0.004706,
     "end_time": "2022-12-08T02:53:29.087602",
     "exception": false,
     "start_time": "2022-12-08T02:53:29.082896",
     "status": "completed"
    },
    "tags": []
   },
   "source": [
    "# Model Overview"
   ]
  },
  {
   "cell_type": "code",
   "execution_count": 1,
   "id": "0c555559",
   "metadata": {
    "execution": {
     "iopub.execute_input": "2022-12-08T02:53:29.103947Z",
     "iopub.status.busy": "2022-12-08T02:53:29.103394Z",
     "iopub.status.idle": "2022-12-08T02:53:32.534969Z",
     "shell.execute_reply": "2022-12-08T02:53:32.534004Z"
    },
    "papermill": {
     "duration": 3.439613,
     "end_time": "2022-12-08T02:53:32.537797",
     "exception": false,
     "start_time": "2022-12-08T02:53:29.098184",
     "status": "completed"
    },
    "tags": []
   },
   "outputs": [
    {
     "data": {
      "text/html": [
       "<style type='text/css'>\n",
       ".datatable table.frame { margin-bottom: 0; }\n",
       ".datatable table.frame thead { border-bottom: none; }\n",
       ".datatable table.frame tr.coltypes td {  color: #FFFFFF;  line-height: 6px;  padding: 0 0.5em;}\n",
       ".datatable .bool    { background: #DDDD99; }\n",
       ".datatable .object  { background: #565656; }\n",
       ".datatable .int     { background: #5D9E5D; }\n",
       ".datatable .float   { background: #4040CC; }\n",
       ".datatable .str     { background: #CC4040; }\n",
       ".datatable .time    { background: #40CC40; }\n",
       ".datatable .row_index {  background: var(--jp-border-color3);  border-right: 1px solid var(--jp-border-color0);  color: var(--jp-ui-font-color3);  font-size: 9px;}\n",
       ".datatable .frame tbody td { text-align: left; }\n",
       ".datatable .frame tr.coltypes .row_index {  background: var(--jp-border-color0);}\n",
       ".datatable th:nth-child(2) { padding-left: 12px; }\n",
       ".datatable .hellipsis {  color: var(--jp-cell-editor-border-color);}\n",
       ".datatable .vellipsis {  background: var(--jp-layout-color0);  color: var(--jp-cell-editor-border-color);}\n",
       ".datatable .na {  color: var(--jp-cell-editor-border-color);  font-size: 80%;}\n",
       ".datatable .sp {  opacity: 0.25;}\n",
       ".datatable .footer { font-size: 9px; }\n",
       ".datatable .frame_dimensions {  background: var(--jp-border-color3);  border-top: 1px solid var(--jp-border-color0);  color: var(--jp-ui-font-color3);  display: inline-block;  opacity: 0.6;  padding: 1px 10px 1px 5px;}\n",
       ".datatable .frame thead tr.colnames {  background-image: url('data:image/png;base64,iVBORw0KGgoAAAANSUhEUgAAABwAAAA4CAYAAADuMJi0AAAGR0lEQVR42rVZ21IbRxBtCbQrkIR2dQVjsLmDLBsET3nTQ8ouYRkQVf6e/E9+Im958qMfkgoXAaKSSj6C9Jnd2R2NeiRSRaZqitVOT5+Z6dNnWoKGlN94JFp8Ipofkb/7SOXjGyp8wF+z35K3f0uUp/GW4XfLQ8v2gefj3ZCCzojoNfue+43o1Q3l3xB/yA3JO7jnF2pCLnI+pNyx/qw7L+SQ7T2N9p2f8c60QcfcK6KGXsAd+ZvA4LlZYuSSAoOhMs5vwJkEGDlbPMaJoA+FcQ0IH38QLWkbAFLkOOhoMF5tU6/eBRhNjro0ZgKiPRAt3FLhCO/vqdgmNTm32LkmKpvBmQY4q5uAaAgbwDBG2BVv3bfI8KKAMWj2kfw9+pkZREIbEql4ST1x7hgHIANkbJ//MF8mAH/ilTCJ2tIi4ASr1IC3VNqXHKOxjy34mgoImnOQtx1g81fkqTiMOBVGcTogNhiT5iBHET8R8C+iApJUmgim3SQAXhsLQz7ee2G8gOAQNtJckBEplADiAxtX+G9NmhDl0qJKnTvyWlAMPYZnvIviGXRg6/Dh824DBXhP/tbfREXJEIvQ+aaPGjG7pvw6r3xdx+9hqb4dgZaP2XmdHO2K/B0c1+oUph6k8kShBryl/Ft0DYgjTlOieOACHFFpVyUl72T9V3cM1jUoYvxIC2vpCSys/ck70mDYuYvdvKjlMdKAUThneWVU1aAsyjv6PURDiwNsHGBZzY+JtAAgE2TFxdRHJdyIp/f+zqu09M5cDP2F08Ukkpj4YNSdX950HY2pNCCUK/Hhx5ZMBfjNSEzdsIihVzzAMdn9dz4eDYhnyQb9SSCiAryiJcQk82LiTbJ4x2FZJaUenpKnzP95WyDf4Y+QN9EFHHSeDLGdBjjKNQ5vKHf4XMA7KrY0y0GEObBOO/8e1ywuQExOHXktuQyJALEBpcEqhwtHqgiDuCK5b6i0p2MQpcckIIoh+6hYgTZtO8xlMi6O4tKCF/kOGHEg/W0UUpHW0ZoGNZ1ExZWcn7EErgwt4uj50E/sFBjXXIayWvh7WryjasxarZKssXon0zxvvkc32Q0bqbBCuZiKt9dWFysfQefeL29JYFaeztX6tePaZdz5mYx8+6Zq3Mk0wXECQxlhdzgS2wjBHju3j1RIgKyOMdNUE8X0+RAdbSapS11MRCv1SzUXmO6wGZe2SQYrv2MvCSWEv2VODE6DN7bz8ufypgQKW7uQskFTQHULLKyaEyrnlZbgOGLrV5qrn9U79jjm2HJmgkaVN98AfBub91lGPLZBqdroN5LYgjSu4zYZDDHXZOIPC691HqrWI1900I8qLzgKP4ft8DxEWigprPfrO+KcXno9gZz4jjGewWdUcpGCj0qVFuGPYbl2VturndZ2qRvlL8acDO6lF/DY/VjsFesiUK+ypJ+r/ep+cJkSQxEK4PG4WozgA75TYrDDqStE69K8/mzGEM+JXTeqvmedEElMmwCMm2SLd6bNNF9su02zEtoW6nAQtpMj5Gd7fKa//wqonF7UdtHFsVn+6hf1o7AfriPH7M6EeIUEF5zKVxXbYo7kS/OEtOqDYZKPoBsETIixn0uYrasThmzDkhdKPkz2EnaX0HdQbIgr59vAdGYDqjHrxkjS7WOxkTD8sqEqhiwcJETgBYigrBqF08KyDaje9SZ/I1A7MzaTzMGDEulPtZUkuKcyIRAjxEJPVrnVlb/9wkfij31D/pQt1IN+iL8bGJcstBIO7Y5VI/cwDqURbXhMuJxBqD0KLoK3esWFs0Jz5i5ZvJUAfFJMFb9XmGIOnzGpijpcWYCaMqXSQWp8EnCABepQ0Elyi4wfKfsw78ikIqif1pe1AGPlLmojl1SKxHHXp1L+Ut7AmDQHvhI5xHGi4EooO2BR7k78PEkJOdL7cAxQUZ/Tyclu9gnfwGgOmm2lNHGNmZXsq4Pqgc1EG1ATrvKl8s4R9ywwnqulGUnaRLVhxy8v3ieUwy2hbooT68uscW++DCDH0WSzuoyN2D4LUJ/tLECbcSKznwMIFs0ChF4mRTCnQbIIfk4SHJo6A9BMuTnXTs3Ku/KxsgZWqzuSe+Os8cEUfnMBY6UF5gi3SUbd5K7vDjq5WW0UENJlRsWn4sy21Er/E/AvPQSFHy1p4fgAAAAASUVORK5CYII=');  background-repeat: repeat-x;  background-size: 14px;  height: 28px;}\n",
       "</style>\n"
      ],
      "text/plain": [
       "<IPython.core.display.HTML object>"
      ]
     },
     "metadata": {},
     "output_type": "display_data"
    }
   ],
   "source": [
    "#Base\n",
    "import numpy as np\n",
    "import pandas as pd\n",
    "import matplotlib.pyplot as plt\n",
    "\n",
    "#Model Settings\n",
    "from sklearn.model_selection import cross_val_score, train_test_split\n",
    "from sklearn.metrics import roc_auc_score\n",
    "from lightgbm import early_stopping\n",
    "from lightgbm import log_evaluation\n",
    "\n",
    "#Model Selection\n",
    "from sklearn.ensemble import RandomForestClassifier\n",
    "import optuna.integration.lightgbm as lgbm\n",
    "import lightgbm as lgb\n",
    "from xgboost import XGBClassifier #Please enable GPU Acceleration\n",
    "\n",
    "#Hyperparameter Tuning\n",
    "import optuna\n",
    "import optuna.visualization as optvis\n",
    "\n",
    "#Misc\n",
    "import gc #Trash Collection\n",
    "import re #Regular Expression\n",
    "import joblib #Export Pre-Processor/Model "
   ]
  },
  {
   "cell_type": "markdown",
   "id": "2e69ba45",
   "metadata": {
    "papermill": {
     "duration": 0.00392,
     "end_time": "2022-12-08T02:53:32.547188",
     "exception": false,
     "start_time": "2022-12-08T02:53:32.543268",
     "status": "completed"
    },
    "tags": []
   },
   "source": [
    "## Load Training Data"
   ]
  },
  {
   "cell_type": "code",
   "execution_count": 2,
   "id": "e313fd44",
   "metadata": {
    "execution": {
     "iopub.execute_input": "2022-12-08T02:53:32.556223Z",
     "iopub.status.busy": "2022-12-08T02:53:32.555894Z",
     "iopub.status.idle": "2022-12-08T02:53:38.752886Z",
     "shell.execute_reply": "2022-12-08T02:53:38.751617Z"
    },
    "papermill": {
     "duration": 6.203784,
     "end_time": "2022-12-08T02:53:38.755015",
     "exception": false,
     "start_time": "2022-12-08T02:53:32.551231",
     "status": "completed"
    },
    "tags": []
   },
   "outputs": [
    {
     "name": "stdout",
     "output_type": "stream",
     "text": [
      "(307511, 122)\n"
     ]
    },
    {
     "data": {
      "text/html": [
       "<div>\n",
       "<style scoped>\n",
       "    .dataframe tbody tr th:only-of-type {\n",
       "        vertical-align: middle;\n",
       "    }\n",
       "\n",
       "    .dataframe tbody tr th {\n",
       "        vertical-align: top;\n",
       "    }\n",
       "\n",
       "    .dataframe thead th {\n",
       "        text-align: right;\n",
       "    }\n",
       "</style>\n",
       "<table border=\"1\" class=\"dataframe\">\n",
       "  <thead>\n",
       "    <tr style=\"text-align: right;\">\n",
       "      <th></th>\n",
       "      <th>SK_ID_CURR</th>\n",
       "      <th>TARGET</th>\n",
       "      <th>NAME_CONTRACT_TYPE</th>\n",
       "      <th>CODE_GENDER</th>\n",
       "      <th>FLAG_OWN_CAR</th>\n",
       "      <th>FLAG_OWN_REALTY</th>\n",
       "      <th>CNT_CHILDREN</th>\n",
       "      <th>AMT_INCOME_TOTAL</th>\n",
       "      <th>AMT_CREDIT</th>\n",
       "      <th>AMT_ANNUITY</th>\n",
       "      <th>...</th>\n",
       "      <th>FLAG_DOCUMENT_18</th>\n",
       "      <th>FLAG_DOCUMENT_19</th>\n",
       "      <th>FLAG_DOCUMENT_20</th>\n",
       "      <th>FLAG_DOCUMENT_21</th>\n",
       "      <th>AMT_REQ_CREDIT_BUREAU_HOUR</th>\n",
       "      <th>AMT_REQ_CREDIT_BUREAU_DAY</th>\n",
       "      <th>AMT_REQ_CREDIT_BUREAU_WEEK</th>\n",
       "      <th>AMT_REQ_CREDIT_BUREAU_MON</th>\n",
       "      <th>AMT_REQ_CREDIT_BUREAU_QRT</th>\n",
       "      <th>AMT_REQ_CREDIT_BUREAU_YEAR</th>\n",
       "    </tr>\n",
       "  </thead>\n",
       "  <tbody>\n",
       "    <tr>\n",
       "      <th>0</th>\n",
       "      <td>100002</td>\n",
       "      <td>1</td>\n",
       "      <td>Cash loans</td>\n",
       "      <td>M</td>\n",
       "      <td>N</td>\n",
       "      <td>Y</td>\n",
       "      <td>0</td>\n",
       "      <td>202500.0</td>\n",
       "      <td>406597.5</td>\n",
       "      <td>24700.5</td>\n",
       "      <td>...</td>\n",
       "      <td>0</td>\n",
       "      <td>0</td>\n",
       "      <td>0</td>\n",
       "      <td>0</td>\n",
       "      <td>0.0</td>\n",
       "      <td>0.0</td>\n",
       "      <td>0.0</td>\n",
       "      <td>0.0</td>\n",
       "      <td>0.0</td>\n",
       "      <td>1.0</td>\n",
       "    </tr>\n",
       "    <tr>\n",
       "      <th>1</th>\n",
       "      <td>100003</td>\n",
       "      <td>0</td>\n",
       "      <td>Cash loans</td>\n",
       "      <td>F</td>\n",
       "      <td>N</td>\n",
       "      <td>N</td>\n",
       "      <td>0</td>\n",
       "      <td>270000.0</td>\n",
       "      <td>1293502.5</td>\n",
       "      <td>35698.5</td>\n",
       "      <td>...</td>\n",
       "      <td>0</td>\n",
       "      <td>0</td>\n",
       "      <td>0</td>\n",
       "      <td>0</td>\n",
       "      <td>0.0</td>\n",
       "      <td>0.0</td>\n",
       "      <td>0.0</td>\n",
       "      <td>0.0</td>\n",
       "      <td>0.0</td>\n",
       "      <td>0.0</td>\n",
       "    </tr>\n",
       "    <tr>\n",
       "      <th>2</th>\n",
       "      <td>100004</td>\n",
       "      <td>0</td>\n",
       "      <td>Revolving loans</td>\n",
       "      <td>M</td>\n",
       "      <td>Y</td>\n",
       "      <td>Y</td>\n",
       "      <td>0</td>\n",
       "      <td>67500.0</td>\n",
       "      <td>135000.0</td>\n",
       "      <td>6750.0</td>\n",
       "      <td>...</td>\n",
       "      <td>0</td>\n",
       "      <td>0</td>\n",
       "      <td>0</td>\n",
       "      <td>0</td>\n",
       "      <td>0.0</td>\n",
       "      <td>0.0</td>\n",
       "      <td>0.0</td>\n",
       "      <td>0.0</td>\n",
       "      <td>0.0</td>\n",
       "      <td>0.0</td>\n",
       "    </tr>\n",
       "    <tr>\n",
       "      <th>3</th>\n",
       "      <td>100006</td>\n",
       "      <td>0</td>\n",
       "      <td>Cash loans</td>\n",
       "      <td>F</td>\n",
       "      <td>N</td>\n",
       "      <td>Y</td>\n",
       "      <td>0</td>\n",
       "      <td>135000.0</td>\n",
       "      <td>312682.5</td>\n",
       "      <td>29686.5</td>\n",
       "      <td>...</td>\n",
       "      <td>0</td>\n",
       "      <td>0</td>\n",
       "      <td>0</td>\n",
       "      <td>0</td>\n",
       "      <td>NaN</td>\n",
       "      <td>NaN</td>\n",
       "      <td>NaN</td>\n",
       "      <td>NaN</td>\n",
       "      <td>NaN</td>\n",
       "      <td>NaN</td>\n",
       "    </tr>\n",
       "    <tr>\n",
       "      <th>4</th>\n",
       "      <td>100007</td>\n",
       "      <td>0</td>\n",
       "      <td>Cash loans</td>\n",
       "      <td>M</td>\n",
       "      <td>N</td>\n",
       "      <td>Y</td>\n",
       "      <td>0</td>\n",
       "      <td>121500.0</td>\n",
       "      <td>513000.0</td>\n",
       "      <td>21865.5</td>\n",
       "      <td>...</td>\n",
       "      <td>0</td>\n",
       "      <td>0</td>\n",
       "      <td>0</td>\n",
       "      <td>0</td>\n",
       "      <td>0.0</td>\n",
       "      <td>0.0</td>\n",
       "      <td>0.0</td>\n",
       "      <td>0.0</td>\n",
       "      <td>0.0</td>\n",
       "      <td>0.0</td>\n",
       "    </tr>\n",
       "  </tbody>\n",
       "</table>\n",
       "<p>5 rows × 122 columns</p>\n",
       "</div>"
      ],
      "text/plain": [
       "   SK_ID_CURR  TARGET NAME_CONTRACT_TYPE CODE_GENDER FLAG_OWN_CAR  \\\n",
       "0      100002       1         Cash loans           M            N   \n",
       "1      100003       0         Cash loans           F            N   \n",
       "2      100004       0    Revolving loans           M            Y   \n",
       "3      100006       0         Cash loans           F            N   \n",
       "4      100007       0         Cash loans           M            N   \n",
       "\n",
       "  FLAG_OWN_REALTY  CNT_CHILDREN  AMT_INCOME_TOTAL  AMT_CREDIT  AMT_ANNUITY  \\\n",
       "0               Y             0          202500.0    406597.5      24700.5   \n",
       "1               N             0          270000.0   1293502.5      35698.5   \n",
       "2               Y             0           67500.0    135000.0       6750.0   \n",
       "3               Y             0          135000.0    312682.5      29686.5   \n",
       "4               Y             0          121500.0    513000.0      21865.5   \n",
       "\n",
       "   ...  FLAG_DOCUMENT_18 FLAG_DOCUMENT_19 FLAG_DOCUMENT_20 FLAG_DOCUMENT_21  \\\n",
       "0  ...                 0                0                0                0   \n",
       "1  ...                 0                0                0                0   \n",
       "2  ...                 0                0                0                0   \n",
       "3  ...                 0                0                0                0   \n",
       "4  ...                 0                0                0                0   \n",
       "\n",
       "  AMT_REQ_CREDIT_BUREAU_HOUR AMT_REQ_CREDIT_BUREAU_DAY  \\\n",
       "0                        0.0                       0.0   \n",
       "1                        0.0                       0.0   \n",
       "2                        0.0                       0.0   \n",
       "3                        NaN                       NaN   \n",
       "4                        0.0                       0.0   \n",
       "\n",
       "   AMT_REQ_CREDIT_BUREAU_WEEK  AMT_REQ_CREDIT_BUREAU_MON  \\\n",
       "0                         0.0                        0.0   \n",
       "1                         0.0                        0.0   \n",
       "2                         0.0                        0.0   \n",
       "3                         NaN                        NaN   \n",
       "4                         0.0                        0.0   \n",
       "\n",
       "   AMT_REQ_CREDIT_BUREAU_QRT  AMT_REQ_CREDIT_BUREAU_YEAR  \n",
       "0                        0.0                         1.0  \n",
       "1                        0.0                         0.0  \n",
       "2                        0.0                         0.0  \n",
       "3                        NaN                         NaN  \n",
       "4                        0.0                         0.0  \n",
       "\n",
       "[5 rows x 122 columns]"
      ]
     },
     "execution_count": 2,
     "metadata": {},
     "output_type": "execute_result"
    }
   ],
   "source": [
    "#Train\n",
    "train = pd.read_csv('../input/home-credit-default-risk/application_train.csv')\n",
    "\n",
    "print(train.shape)\n",
    "train.head()"
   ]
  },
  {
   "cell_type": "markdown",
   "id": "a02d1c21",
   "metadata": {
    "papermill": {
     "duration": 0.003918,
     "end_time": "2022-12-08T02:53:38.763331",
     "exception": false,
     "start_time": "2022-12-08T02:53:38.759413",
     "status": "completed"
    },
    "tags": []
   },
   "source": [
    "## Preprocessing "
   ]
  },
  {
   "cell_type": "code",
   "execution_count": 3,
   "id": "0e86c633",
   "metadata": {
    "execution": {
     "iopub.execute_input": "2022-12-08T02:53:38.774917Z",
     "iopub.status.busy": "2022-12-08T02:53:38.773231Z",
     "iopub.status.idle": "2022-12-08T02:53:38.780668Z",
     "shell.execute_reply": "2022-12-08T02:53:38.779813Z"
    },
    "papermill": {
     "duration": 0.014843,
     "end_time": "2022-12-08T02:53:38.782590",
     "exception": false,
     "start_time": "2022-12-08T02:53:38.767747",
     "status": "completed"
    },
    "tags": []
   },
   "outputs": [],
   "source": [
    "###############################################\n",
    "# One-Hot Encoding\n",
    "###############################################   \n",
    "def onehot_encoder(df):\n",
    "    cat_columns = [col for col in df.columns if df[col].dtype == 'object']\n",
    "    num_columns = [col for col in df.columns if df[col].dtype != 'object']\n",
    "    df = pd.get_dummies(df)    \n",
    "    enc_columns = [c for c in df.columns if c not in num_columns]\n",
    "\n",
    "    return df, enc_columns\n"
   ]
  },
  {
   "cell_type": "code",
   "execution_count": 4,
   "id": "c099f35a",
   "metadata": {
    "execution": {
     "iopub.execute_input": "2022-12-08T02:53:38.793722Z",
     "iopub.status.busy": "2022-12-08T02:53:38.792211Z",
     "iopub.status.idle": "2022-12-08T02:53:46.437193Z",
     "shell.execute_reply": "2022-12-08T02:53:46.436165Z"
    },
    "papermill": {
     "duration": 7.653795,
     "end_time": "2022-12-08T02:53:46.440611",
     "exception": false,
     "start_time": "2022-12-08T02:53:38.786816",
     "status": "completed"
    },
    "tags": []
   },
   "outputs": [
    {
     "name": "stdout",
     "output_type": "stream",
     "text": [
      "Processing application data.\n",
      "\n",
      "Data Preprocessed\n",
      "(307511, 246)\n"
     ]
    }
   ],
   "source": [
    "def process_application(data_path):\n",
    "    print('Processing application data.')\n",
    "    \n",
    "    train = pd.read_csv(f'{data_path}/application_train.csv')\n",
    "    \n",
    "    ###################################\n",
    "    # One-Hot Encoding *Train/Test*\n",
    "    ###################################\n",
    "    \n",
    "    train = pd.get_dummies(train)\n",
    "    \n",
    "    ###################################\n",
    "    # Fill Missing Values for Numerical Columns w/ mean\n",
    "    ###################################\n",
    "    \n",
    "    num_columns = [col for col in train.columns[2:] if train[col].dtype != 'object']\n",
    "    for col in num_columns:\n",
    "        if train[col].isna().values.sum() > 0:\n",
    "            train[col].fillna(train[col].mean(), inplace=True)\n",
    "\n",
    "    ###################################\n",
    "    # Fill Missing Values for Categorical Columns w/ mode\n",
    "    ###################################\n",
    "    \n",
    "    train = train.fillna(train.mode().iloc[0])\n",
    "    \n",
    "    #####################################################\n",
    "    # Format Non-Regular Column Names with Underscores\n",
    "    #####################################################\n",
    "    train = train.rename(columns=lambda x: re.sub('[^A-Za-z0-9_]+', '_', x))\n",
    "    \n",
    "    ###################################\n",
    "    # End - process_application Function\n",
    "    ###################################\n",
    "    \n",
    "    print(\"\")\n",
    "    print('Data Preprocessed')\n",
    "    print(train.shape)\n",
    "    \n",
    "    return train\n",
    "\n",
    "#Calling Function -------------------------\n",
    "\n",
    "train = process_application('../input/home-credit-default-risk')"
   ]
  },
  {
   "cell_type": "code",
   "execution_count": 5,
   "id": "b1ba17e5",
   "metadata": {
    "execution": {
     "iopub.execute_input": "2022-12-08T02:53:46.451120Z",
     "iopub.status.busy": "2022-12-08T02:53:46.450808Z",
     "iopub.status.idle": "2022-12-08T02:53:46.612996Z",
     "shell.execute_reply": "2022-12-08T02:53:46.611806Z"
    },
    "papermill": {
     "duration": 0.169964,
     "end_time": "2022-12-08T02:53:46.615584",
     "exception": false,
     "start_time": "2022-12-08T02:53:46.445620",
     "status": "completed"
    },
    "tags": []
   },
   "outputs": [
    {
     "name": "stdout",
     "output_type": "stream",
     "text": [
      "(307511, 244)\n",
      "(307511,)\n"
     ]
    }
   ],
   "source": [
    "#Defining X_train and y_train\n",
    "X_train = train.drop(columns=['TARGET','SK_ID_CURR'])\n",
    "y_train = train.TARGET\n",
    "\n",
    "print(X_train.shape)\n",
    "print(y_train.shape)"
   ]
  },
  {
   "cell_type": "code",
   "execution_count": 6,
   "id": "769e5a1b",
   "metadata": {
    "execution": {
     "iopub.execute_input": "2022-12-08T02:53:46.626027Z",
     "iopub.status.busy": "2022-12-08T02:53:46.625214Z",
     "iopub.status.idle": "2022-12-08T02:53:47.221986Z",
     "shell.execute_reply": "2022-12-08T02:53:47.220819Z"
    },
    "papermill": {
     "duration": 0.604171,
     "end_time": "2022-12-08T02:53:47.224347",
     "exception": false,
     "start_time": "2022-12-08T02:53:46.620176",
     "status": "completed"
    },
    "tags": []
   },
   "outputs": [
    {
     "name": "stdout",
     "output_type": "stream",
     "text": [
      "(61502, 244)\n",
      "(246009, 244)\n"
     ]
    }
   ],
   "source": [
    "#Split Train into train/validation sets\n",
    "X_sample, X_valid, y_sample, y_valid = train_test_split(X_train, y_train, test_size=0.8, stratify=y_train, random_state=1)\n",
    "\n",
    "print(X_sample.shape)\n",
    "print(X_valid.shape)"
   ]
  },
  {
   "cell_type": "code",
   "execution_count": 7,
   "id": "6fdeffee",
   "metadata": {
    "execution": {
     "iopub.execute_input": "2022-12-08T02:53:47.235308Z",
     "iopub.status.busy": "2022-12-08T02:53:47.234462Z",
     "iopub.status.idle": "2022-12-08T02:53:47.369406Z",
     "shell.execute_reply": "2022-12-08T02:53:47.367867Z"
    },
    "papermill": {
     "duration": 0.143075,
     "end_time": "2022-12-08T02:53:47.372126",
     "exception": false,
     "start_time": "2022-12-08T02:53:47.229051",
     "status": "completed"
    },
    "tags": []
   },
   "outputs": [
    {
     "name": "stdout",
     "output_type": "stream",
     "text": [
      "61502\n",
      "246009\n"
     ]
    }
   ],
   "source": [
    "#Creating indexes from train/test\n",
    "train_idx, valid_idx = train_test_split(range(len(train)), test_size=0.8, random_state=1, stratify=train.TARGET)\n",
    "print(len(train_idx))\n",
    "print(len(valid_idx))"
   ]
  },
  {
   "cell_type": "markdown",
   "id": "6fee3839",
   "metadata": {
    "papermill": {
     "duration": 0.004191,
     "end_time": "2022-12-08T02:53:47.381040",
     "exception": false,
     "start_time": "2022-12-08T02:53:47.376849",
     "status": "completed"
    },
    "tags": []
   },
   "source": [
    "## Model Selection \n",
    "\n",
    "| Model | Score | Time | Notes|\n",
    "| ---   | ---   | ---  | ---  |\n",
    "|Random Forest| 0.73914 | 2 min 6 sec | No Tuning/Base|\n",
    "|LightGBM | 0.74388 | 10.5 sec | No Tuning/Base|\n",
    "|XGBoost | 0.71189 | 1min 33 sec | No Tuning/Base|\n",
    "|Boosted Tree| 0.74897| 6min 8 sec | No Tuning/Base| "
   ]
  },
  {
   "cell_type": "code",
   "execution_count": 8,
   "id": "27855d9e",
   "metadata": {
    "execution": {
     "iopub.execute_input": "2022-12-08T02:53:47.391611Z",
     "iopub.status.busy": "2022-12-08T02:53:47.390633Z",
     "iopub.status.idle": "2022-12-08T02:55:09.345148Z",
     "shell.execute_reply": "2022-12-08T02:55:09.344153Z"
    },
    "papermill": {
     "duration": 81.971424,
     "end_time": "2022-12-08T02:55:09.356704",
     "exception": false,
     "start_time": "2022-12-08T02:53:47.385280",
     "status": "completed"
    },
    "tags": []
   },
   "outputs": [
    {
     "name": "stderr",
     "output_type": "stream",
     "text": [
      "\u001b[32m[I 2022-12-08 02:53:47,395]\u001b[0m A new study created in memory with name: no-name-17733580-1908-4f14-ade8-cfdb709c25bf\u001b[0m\n",
      "\u001b[32m[I 2022-12-08 02:53:56,311]\u001b[0m Trial 0 finished with value: 0.724201066682605 and parameters: {'n_estimators': 22, 'max_depth': 163, 'min_samples_leaf': 34, 'max_samples': 0.9969299005834324, 'criterion': 'gini'}. Best is trial 0 with value: 0.724201066682605.\u001b[0m\n",
      "\u001b[32m[I 2022-12-08 02:54:19,225]\u001b[0m Trial 1 finished with value: 0.7301676106231899 and parameters: {'n_estimators': 88, 'max_depth': 134, 'min_samples_leaf': 10, 'max_samples': 0.6765043014260719, 'criterion': 'gini'}. Best is trial 1 with value: 0.7301676106231899.\u001b[0m\n",
      "\u001b[32m[I 2022-12-08 02:54:31,108]\u001b[0m Trial 2 finished with value: 0.7327637837377105 and parameters: {'n_estimators': 41, 'max_depth': 215, 'min_samples_leaf': 28, 'max_samples': 0.9675956747691709, 'criterion': 'entropy'}. Best is trial 2 with value: 0.7327637837377105.\u001b[0m\n",
      "\u001b[32m[I 2022-12-08 02:54:39,457]\u001b[0m Trial 3 finished with value: 0.7305494628021467 and parameters: {'n_estimators': 28, 'max_depth': 28, 'min_samples_leaf': 47, 'max_samples': 0.839848107362144, 'criterion': 'entropy'}. Best is trial 2 with value: 0.7327637837377105.\u001b[0m\n",
      "\u001b[32m[I 2022-12-08 02:55:09,331]\u001b[0m Trial 4 finished with value: 0.7385676224736059 and parameters: {'n_estimators': 193, 'max_depth': 93, 'min_samples_leaf': 53, 'max_samples': 0.5030568393082098, 'criterion': 'entropy'}. Best is trial 4 with value: 0.7385676224736059.\u001b[0m\n"
     ]
    },
    {
     "name": "stdout",
     "output_type": "stream",
     "text": [
      "CPU times: user 3.24 s, sys: 686 ms, total: 3.93 s\n",
      "Wall time: 1min 21s\n"
     ]
    }
   ],
   "source": [
    "%%time\n",
    "\n",
    "#Random Forest\n",
    "\n",
    "def rf_objective(trial):\n",
    "    \n",
    "    n  = trial.suggest_int('n_estimators', 20, 200)\n",
    "    md = trial.suggest_int('max_depth', 2, 256)\n",
    "    msl = trial.suggest_int('min_samples_leaf', 1, 64)\n",
    "    ms = trial.suggest_float('max_samples', 0.5, 1.0)\n",
    "    cr = trial.suggest_categorical('criterion', ['gini', 'entropy'])\n",
    "    \n",
    "    clf =  RandomForestClassifier(\n",
    "        n_estimators=n, max_depth=md, min_samples_leaf=msl, max_samples=ms\n",
    "    )\n",
    "    \n",
    "    cv_scores = cross_val_score(clf, X_train, y_train, n_jobs=-1, cv=[(train_idx, valid_idx)], scoring ='roc_auc')\n",
    "    score = cv_scores.mean()\n",
    "    return score\n",
    "    \n",
    "rf_study = optuna.create_study(direction='maximize')\n",
    "rf_study.optimize(rf_objective, n_trials=5)"
   ]
  },
  {
   "cell_type": "code",
   "execution_count": 9,
   "id": "bb963c51",
   "metadata": {
    "execution": {
     "iopub.execute_input": "2022-12-08T02:55:09.394901Z",
     "iopub.status.busy": "2022-12-08T02:55:09.394516Z",
     "iopub.status.idle": "2022-12-08T02:55:20.129131Z",
     "shell.execute_reply": "2022-12-08T02:55:20.128102Z"
    },
    "papermill": {
     "duration": 10.757404,
     "end_time": "2022-12-08T02:55:20.132146",
     "exception": false,
     "start_time": "2022-12-08T02:55:09.374742",
     "status": "completed"
    },
    "tags": []
   },
   "outputs": [
    {
     "name": "stdout",
     "output_type": "stream",
     "text": [
      "Training until validation scores don't improve for 100 rounds\n",
      "[100]\ttraining's auc: 0.878679\tvalid_1's auc: 0.743884\n",
      "Did not meet early stopping. Best iteration is:\n",
      "[100]\ttraining's auc: 0.878679\tvalid_1's auc: 0.743884\n",
      "Best params: {'objective': 'binary', 'metric': 'auc', 'verbosity': 0, 'boosting_type': 'gbdt', 'force_col_wise': 'true', 'num_iterations': 100, 'early_stopping_round': None}\n",
      "roc_score = 0.5077347429379067\n",
      " Params: \n",
      "    objective:  binary\n",
      "    metric:  auc\n",
      "    verbosity:  0\n",
      "    boosting_type:  gbdt\n",
      "    force_col_wise:  true\n",
      "    num_iterations:  100\n",
      "    early_stopping_round:  None\n",
      "CPU times: user 18.5 s, sys: 601 ms, total: 19.1 s\n",
      "Wall time: 10.7 s\n"
     ]
    }
   ],
   "source": [
    "%%time\n",
    "\n",
    "#LightGBM\n",
    "\n",
    "dtrain = lgb.Dataset(X_sample, label=y_sample)\n",
    "dval = lgb.Dataset(X_valid, label=y_valid)\n",
    "\n",
    "params = {\n",
    "    'objective': 'binary',\n",
    "    'metric': 'auc', \n",
    "    'verbosity' : 0,\n",
    "    'boosting_type': 'gbdt',\n",
    "    'force_col_wise':'true'\n",
    "}\n",
    "\n",
    "gbm = lgb.train (\n",
    "    params,\n",
    "    train_set=dtrain, \n",
    "    valid_sets=[dtrain, dval],\n",
    "    callbacks=[early_stopping(100), log_evaluation(100)]\n",
    ")\n",
    "\n",
    "prediction = np.rint(gbm.predict(X_valid, num_iteration=gbm.best_iteration))\n",
    "roc_score = roc_auc_score(y_valid, prediction)\n",
    "    \n",
    "best_params = gbm.params\n",
    "print('Best params:', best_params)\n",
    "print('roc_score = {}'.format(roc_score))\n",
    "\n",
    "print(' Params: ')\n",
    "for key, value in best_params.items():\n",
    "      print('    {}:  {}'.format(key, value))"
   ]
  },
  {
   "cell_type": "code",
   "execution_count": 10,
   "id": "ff62a1c7",
   "metadata": {
    "execution": {
     "iopub.execute_input": "2022-12-08T02:55:20.148795Z",
     "iopub.status.busy": "2022-12-08T02:55:20.148322Z",
     "iopub.status.idle": "2022-12-08T02:56:40.428484Z",
     "shell.execute_reply": "2022-12-08T02:56:40.427498Z"
    },
    "papermill": {
     "duration": 80.295441,
     "end_time": "2022-12-08T02:56:40.435845",
     "exception": false,
     "start_time": "2022-12-08T02:55:20.140404",
     "status": "completed"
    },
    "tags": []
   },
   "outputs": [
    {
     "name": "stderr",
     "output_type": "stream",
     "text": [
      "\u001b[32m[I 2022-12-08 02:55:20,155]\u001b[0m A new study created in memory with name: no-name-cbd4a02b-5eaa-4bbd-83e3-9847362cf34b\u001b[0m\n",
      "\u001b[32m[I 2022-12-08 02:55:34,621]\u001b[0m Trial 0 finished with value: 0.6847753958539673 and parameters: {'n_estimators': 171, 'learning_rate': 0.5445915968936368, 'gamma': 4.620376119241899, 'subsample': 0.7893157396921522, 'max_depth': 22}. Best is trial 0 with value: 0.6847753958539673.\u001b[0m\n",
      "\u001b[32m[I 2022-12-08 02:55:41,363]\u001b[0m Trial 1 finished with value: 0.679963523478316 and parameters: {'n_estimators': 295, 'learning_rate': 0.6649129870387618, 'gamma': 3.65811061423004, 'subsample': 0.9412461873933499, 'max_depth': 19}. Best is trial 0 with value: 0.6847753958539673.\u001b[0m\n",
      "\u001b[32m[I 2022-12-08 02:55:47,162]\u001b[0m Trial 2 finished with value: 0.6986509041528499 and parameters: {'n_estimators': 254, 'learning_rate': 0.4361799079110012, 'gamma': 3.518761223628136, 'subsample': 0.8226005862448154, 'max_depth': 17}. Best is trial 2 with value: 0.6986509041528499.\u001b[0m\n",
      "\u001b[32m[I 2022-12-08 02:55:53,278]\u001b[0m Trial 3 finished with value: 0.7299487168039456 and parameters: {'n_estimators': 151, 'learning_rate': 0.18475046712441306, 'gamma': 3.6823979529432354, 'subsample': 0.8311095977085419, 'max_depth': 12}. Best is trial 3 with value: 0.7299487168039456.\u001b[0m\n",
      "\u001b[32m[I 2022-12-08 02:56:40,421]\u001b[0m Trial 4 finished with value: 0.7101919819262721 and parameters: {'n_estimators': 234, 'learning_rate': 0.3134049187176926, 'gamma': 2.6040649410083505, 'subsample': 0.9673075071699487, 'max_depth': 24}. Best is trial 3 with value: 0.7299487168039456.\u001b[0m\n"
     ]
    },
    {
     "name": "stdout",
     "output_type": "stream",
     "text": [
      "0.7299487168039456\n",
      "{'n_estimators': 151, 'learning_rate': 0.18475046712441306, 'gamma': 3.6823979529432354, 'subsample': 0.8311095977085419, 'max_depth': 12}\n",
      "CPU times: user 1min 23s, sys: 2.1 s, total: 1min 25s\n",
      "Wall time: 1min 20s\n"
     ]
    }
   ],
   "source": [
    "%%time\n",
    "\n",
    "#XGBoost - GPU Acceleration must be turned on from Settings for results to show.\n",
    "\n",
    "def gb_objective(trial):\n",
    "    n  = trial.suggest_int('n_estimators', 150, 300, log=False)\n",
    "    lr = trial.suggest_float('learning_rate', 0, 0.7, log=False)\n",
    "    ga = trial.suggest_float('gamma', 0, 5, log=False)\n",
    "    ss = trial.suggest_float('subsample', 0.6, 1, log=False)\n",
    "    md = trial.suggest_int('max_depth', 10, 24, log=False)\n",
    "    \n",
    "    clf =  XGBClassifier(random_state=1, max_depth=md, n_estimators=n, booster='gbtree',\n",
    "                         learning_rate=lr, gamma=ga, subsample=ss, tree_method='gpu_hist')\n",
    "    \n",
    "    scores = cross_val_score(clf, X_train, y_train, n_jobs=1, cv=[(train_idx, valid_idx)], scoring='roc_auc')\n",
    "    return scores.mean()\n",
    "    \n",
    "gb_study = optuna.create_study(direction='maximize')\n",
    "gb_study.optimize(gb_objective, n_trials=5)\n",
    "\n",
    "print(gb_study.best_value)\n",
    "print(gb_study.best_params)"
   ]
  },
  {
   "cell_type": "code",
   "execution_count": 11,
   "id": "739ecd2d",
   "metadata": {
    "execution": {
     "iopub.execute_input": "2022-12-08T02:56:40.448601Z",
     "iopub.status.busy": "2022-12-08T02:56:40.448300Z",
     "iopub.status.idle": "2022-12-08T03:04:14.459856Z",
     "shell.execute_reply": "2022-12-08T03:04:14.458827Z"
    },
    "papermill": {
     "duration": 454.02723,
     "end_time": "2022-12-08T03:04:14.469275",
     "exception": false,
     "start_time": "2022-12-08T02:56:40.442045",
     "status": "completed"
    },
    "tags": []
   },
   "outputs": [
    {
     "name": "stderr",
     "output_type": "stream",
     "text": [
      "\u001b[32m[I 2022-12-08 02:56:40,451]\u001b[0m A new study created in memory with name: no-name-fab77b10-f8c8-4cf5-8683-4dd4a4979427\u001b[0m\n",
      "\u001b[32m[I 2022-12-08 02:57:26,711]\u001b[0m Trial 0 finished with value: 0.7343884390760872 and parameters: {'n_estimators': 62, 'max_depth': 13, 'learning_rate': 0.5240668125305448, 'subsample': 0.7281498271293056, 'boosting_type': 'gbdt'}. Best is trial 0 with value: 0.7343884390760872.\u001b[0m\n",
      "\u001b[32m[I 2022-12-08 03:00:04,049]\u001b[0m Trial 1 finished with value: 0.7468666567054124 and parameters: {'n_estimators': 136, 'max_depth': 39, 'learning_rate': 0.08473951710506933, 'subsample': 0.9705552987722222, 'boosting_type': 'dart'}. Best is trial 1 with value: 0.7468666567054124.\u001b[0m\n",
      "\u001b[32m[I 2022-12-08 03:01:02,637]\u001b[0m Trial 2 finished with value: 0.7454126148540161 and parameters: {'n_estimators': 50, 'max_depth': 17, 'learning_rate': 0.12823182009064038, 'subsample': 0.7350541165169018, 'boosting_type': 'dart'}. Best is trial 1 with value: 0.7468666567054124.\u001b[0m\n",
      "\u001b[32m[I 2022-12-08 03:01:50,536]\u001b[0m Trial 3 finished with value: 0.7486646427443687 and parameters: {'n_estimators': 53, 'max_depth': 4, 'learning_rate': 0.27710440685323245, 'subsample': 0.9390837837986028, 'boosting_type': 'dart'}. Best is trial 3 with value: 0.7486646427443687.\u001b[0m\n",
      "\u001b[32m[I 2022-12-08 03:04:14,454]\u001b[0m Trial 4 finished with value: 0.7368823642227638 and parameters: {'n_estimators': 128, 'max_depth': 12, 'learning_rate': 0.04577288731322926, 'subsample': 0.8685257544956062, 'boosting_type': 'dart'}. Best is trial 3 with value: 0.7486646427443687.\u001b[0m\n"
     ]
    },
    {
     "name": "stdout",
     "output_type": "stream",
     "text": [
      "0.7486646427443687\n",
      "{'n_estimators': 53, 'max_depth': 4, 'learning_rate': 0.27710440685323245, 'subsample': 0.9390837837986028, 'boosting_type': 'dart'}\n",
      "CPU times: user 13min 25s, sys: 10.7 s, total: 13min 36s\n",
      "Wall time: 7min 34s\n"
     ]
    }
   ],
   "source": [
    "%%time\n",
    "\n",
    "#Boosted-Tree\n",
    "\n",
    "def lgbm_objective(trial):\n",
    "    n  = trial.suggest_int('n_estimators', 20, 150)\n",
    "    md = trial.suggest_int('max_depth', 2, 40)\n",
    "    lr = trial.suggest_float('learning_rate', 0, 1, log=False)\n",
    "    ss = trial.suggest_float('subsample', 0.6, 1, log=False)\n",
    "    bt = trial.suggest_categorical('boosting_type', ['gbdt', 'dart'])\n",
    "    \n",
    "    clf =  lgb.LGBMClassifier(n_estimators=n, max_depth=md, learning_rate=lr, \n",
    "                              boosting_type=bt,subsample=ss, random_state=1)\n",
    "    \n",
    "    scores = cross_val_score(clf, X_train, y_train, n_jobs=1, cv=5, scoring='roc_auc')\n",
    "    return scores.mean()\n",
    "    \n",
    "lgbm_study = optuna.create_study(direction='maximize')\n",
    "lgbm_study.optimize(lgbm_objective, n_trials=5)\n",
    "\n",
    "print(lgbm_study.best_value)\n",
    "print(lgbm_study.best_params)"
   ]
  }
 ],
 "metadata": {
  "kernelspec": {
   "display_name": "Python 3",
   "language": "python",
   "name": "python3"
  },
  "language_info": {
   "codemirror_mode": {
    "name": "ipython",
    "version": 3
   },
   "file_extension": ".py",
   "mimetype": "text/x-python",
   "name": "python",
   "nbconvert_exporter": "python",
   "pygments_lexer": "ipython3",
   "version": "3.7.12"
  },
  "papermill": {
   "default_parameters": {},
   "duration": 656.430028,
   "end_time": "2022-12-08T03:04:17.196940",
   "environment_variables": {},
   "exception": null,
   "input_path": "__notebook__.ipynb",
   "output_path": "__notebook__.ipynb",
   "parameters": {},
   "start_time": "2022-12-08T02:53:20.766912",
   "version": "2.3.4"
  }
 },
 "nbformat": 4,
 "nbformat_minor": 5
}
